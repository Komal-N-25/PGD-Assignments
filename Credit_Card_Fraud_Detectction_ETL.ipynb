{
 "cells": [
  {
   "cell_type": "markdown",
   "metadata": {},
   "source": [
    "# <font color = brown> Cred Financials ETL from RDS to Hbase (PySpark) </font>"
   ]
  },
  {
   "cell_type": "markdown",
   "metadata": {},
   "source": [
    "#### Table of contents<a id='top'></a>\n",
    "> 1. [Introduction](#intro)\n",
    "> 2. [PySpark Setup](#iml)\n",
    "> 3. [Importing the Data from HDFS](#rud)\n",
    "> 4.[Calculating Upper Control Limit(UCL)](#ucl)<br>\n",
    "> 5. [Creation of Lookup Table](#cdt)"
   ]
  },
  {
   "cell_type": "markdown",
   "metadata": {},
   "source": [
    "### 1. INTRODUCTION <a id='intro'></a>\n",
    "\n",
    "- Credit card fraud is defined as a form of identity theft in which an individual uses someone else’s credit card information to make purchases or to withdraw funds from the account. <br>\n",
    "- As a big data engineer, architect and build a solution to cater to the following requirements:\n",
    "1.\t**Fraud detection solution:** This is a feature to detect fraudulent transactions, wherein once a card member swipes their card for payment, the transaction is classified as fraudulent or authentic based on a set of predefined rules. If fraud is detected, then the transaction must be declined. Please note that incorrectly classifying a transaction as fraudulent will incur huge losses to the company and also provoke negative consumer sentiment. \n",
    "2.\t**Customer information:** The relevant information about the customers’ needs to be continuously updated on a platform from where the customer support team can retrieve relevant information in real-time to resolve customer complaints and queries.\n",
    "\n",
    "[go to top](#top)"
   ]
  },
  {
   "cell_type": "markdown",
   "metadata": {},
   "source": [
    "#### 1.2. Objective \n",
    "1. Extracting the transactional data from a given MySQL RDS server to HDFS(EC2) instance using Sqoop.\n",
    "\n",
    "2. Loading Data into NoSQL Database :\n",
    "> a. Loading given history data(card_transactions.csv) into NoSQL DB (HBase).<br>\n",
    "> b. Transforming the transactional data according to the given target schema(lookup table) using PySpark.<br> \n",
    "> c. The transformed data is to be loaded to NoSQL DB (HBase)."
   ]
  },
  {
   "cell_type": "markdown",
   "metadata": {},
   "source": [
    " ###  2. PySpark Setup <a id='iml'></a>"
   ]
  },
  {
   "cell_type": "code",
   "execution_count": 1,
   "metadata": {},
   "outputs": [],
   "source": [
    "import os\n",
    "import sys\n",
    "os.environ[\"PYSPARK_PYTHON\"] = \"/opt/cloudera/parcels/Anaconda/bin/python\"\n",
    "os.environ[\"JAVA_HOME\"] = \"/usr/java/jdk1.8.0_232-cloudera/jre\"\n",
    "os.environ[\"SPARK_HOME\"] = \"/opt/cloudera/parcels/SPARK2-2.3.0.cloudera2-1.cdh5.13.3.p0.316101/lib/spark2/\"\n",
    "os.environ[\"PYLIB\"] = os.environ[\"SPARK_HOME\"] + \"/python/lib\"\n",
    "sys.path.insert(0, os.environ[\"PYLIB\"] +\"/py4j-0.10.6-src.zip\")\n",
    "sys.path.insert(0, os.environ[\"PYLIB\"] +\"/pyspark.zip\")"
   ]
  },
  {
   "cell_type": "code",
   "execution_count": 2,
   "metadata": {},
   "outputs": [],
   "source": [
    "from pyspark.sql import SparkSession"
   ]
  },
  {
   "cell_type": "code",
   "execution_count": 3,
   "metadata": {},
   "outputs": [
    {
     "data": {
      "text/html": [
       "\n",
       "            <div>\n",
       "                <p><b>SparkSession - hive</b></p>\n",
       "                \n",
       "        <div>\n",
       "            <p><b>SparkContext</b></p>\n",
       "\n",
       "            <p><a href=\"http://ip-10-0-0-181.ec2.internal:4040\">Spark UI</a></p>\n",
       "\n",
       "            <dl>\n",
       "              <dt>Version</dt>\n",
       "                <dd><code>v2.3.0.cloudera2</code></dd>\n",
       "              <dt>Master</dt>\n",
       "                <dd><code>yarn</code></dd>\n",
       "              <dt>AppName</dt>\n",
       "                <dd><code>CCFD_Project</code></dd>\n",
       "            </dl>\n",
       "        </div>\n",
       "        \n",
       "            </div>\n",
       "        "
      ],
      "text/plain": [
       "<pyspark.sql.session.SparkSession at 0x7fea0c623710>"
      ]
     },
     "execution_count": 3,
     "metadata": {},
     "output_type": "execute_result"
    }
   ],
   "source": [
    "spark = SparkSession.builder.appName('CCFD_Project').getOrCreate()\n",
    "spark"
   ]
  },
  {
   "cell_type": "code",
   "execution_count": 4,
   "metadata": {},
   "outputs": [],
   "source": [
    "sc = spark.sparkContext"
   ]
  },
  {
   "cell_type": "code",
   "execution_count": 5,
   "metadata": {},
   "outputs": [
    {
     "data": {
      "text/html": [
       "\n",
       "        <div>\n",
       "            <p><b>SparkContext</b></p>\n",
       "\n",
       "            <p><a href=\"http://ip-10-0-0-181.ec2.internal:4040\">Spark UI</a></p>\n",
       "\n",
       "            <dl>\n",
       "              <dt>Version</dt>\n",
       "                <dd><code>v2.3.0.cloudera2</code></dd>\n",
       "              <dt>Master</dt>\n",
       "                <dd><code>yarn</code></dd>\n",
       "              <dt>AppName</dt>\n",
       "                <dd><code>CCFD_Project</code></dd>\n",
       "            </dl>\n",
       "        </div>\n",
       "        "
      ],
      "text/plain": [
       "<SparkContext master=yarn appName=CCFD_Project>"
      ]
     },
     "execution_count": 5,
     "metadata": {},
     "output_type": "execute_result"
    }
   ],
   "source": [
    "sc"
   ]
  },
  {
   "cell_type": "code",
   "execution_count": 6,
   "metadata": {},
   "outputs": [],
   "source": [
    "from pyspark.sql.types import StructType, StructField, IntegerType, StringType, BooleanType, DoubleType, LongType"
   ]
  },
  {
   "cell_type": "code",
   "execution_count": 7,
   "metadata": {},
   "outputs": [],
   "source": [
    "import pyspark.sql.functions as f"
   ]
  },
  {
   "cell_type": "markdown",
   "metadata": {},
   "source": [
    "###  3. Importing the Credit Card Data from HDFS <a id='rud'></a>"
   ]
  },
  {
   "cell_type": "markdown",
   "metadata": {},
   "source": [
    "**Strategy :** \n",
    " 1. Load data into dataframes using the files on HDFS with a well-defined schema.\n",
    " > a. card_member <br>\n",
    " > b. member_score <br>\n",
    " > c. card_transactions <br>\n",
    " 2. Verify Schema and total count. \n",
    " 3. Create Staging Dataframes to get the relevant dataframe for lookup table creation :\n",
    " > a. Join card_df and member_df and transaction_df to get the relevant card details.<br>\n",
    " > b. Calculating Upper Control Limit(UCL), moving average and standard deviation.<br>\n",
    " 4. Loading LookUpTable dataframe with relevant columns into HBase :\n",
    " > a. HBase connection setup <br>\n",
    " > b. Create table<br>\n",
    " > c. put data into HBase (look_up_table)Table.\n",
    " > d. Count the number of records in the table."
   ]
  },
  {
   "cell_type": "markdown",
   "metadata": {},
   "source": [
    "[go to top](#top)"
   ]
  },
  {
   "cell_type": "code",
   "execution_count": 8,
   "metadata": {},
   "outputs": [],
   "source": [
    "# Defining StructType for each column based on Schema"
   ]
  },
  {
   "cell_type": "code",
   "execution_count": 9,
   "metadata": {},
   "outputs": [],
   "source": [
    "cardschema = StructType([StructField('card_id', StringType(),False),\n",
    "                        StructField('member_id', StringType(),False),\n",
    "                        StructField('member_joining_dt', StringType(),False),\n",
    "                        StructField('card_purchase_dt', StringType(),False),\n",
    "                        StructField('country', StringType(),False),\n",
    "                        StructField('city', StringType(),False), \n",
    "                        ])"
   ]
  },
  {
   "cell_type": "code",
   "execution_count": 10,
   "metadata": {},
   "outputs": [],
   "source": [
    "card_df = spark.read.csv(\"hdfs:/user/root/CCFD_Project/card_member\", header = False, schema = cardschema)"
   ]
  },
  {
   "cell_type": "code",
   "execution_count": 11,
   "metadata": {},
   "outputs": [
    {
     "data": {
      "text/plain": [
       "999"
      ]
     },
     "execution_count": 11,
     "metadata": {},
     "output_type": "execute_result"
    }
   ],
   "source": [
    "#Checking number of records loaded from HDFS\n",
    "card_df.count()"
   ]
  },
  {
   "cell_type": "markdown",
   "metadata": {},
   "source": [
    "- **Validation** :\n",
    "  As expected there are **999** records in card_member table retrieved from AWS RDS using Sqoop"
   ]
  },
  {
   "cell_type": "code",
   "execution_count": 12,
   "metadata": {},
   "outputs": [
    {
     "name": "stdout",
     "output_type": "stream",
     "text": [
      "root\n",
      " |-- card_id: string (nullable = true)\n",
      " |-- member_id: string (nullable = true)\n",
      " |-- member_joining_dt: string (nullable = true)\n",
      " |-- card_purchase_dt: string (nullable = true)\n",
      " |-- country: string (nullable = true)\n",
      " |-- city: string (nullable = true)\n",
      "\n"
     ]
    }
   ],
   "source": [
    "card_df.printSchema()"
   ]
  },
  {
   "cell_type": "code",
   "execution_count": 13,
   "metadata": {},
   "outputs": [
    {
     "data": {
      "text/plain": [
       "['card_id',\n",
       " 'member_id',\n",
       " 'member_joining_dt',\n",
       " 'card_purchase_dt',\n",
       " 'country',\n",
       " 'city']"
      ]
     },
     "execution_count": 13,
     "metadata": {},
     "output_type": "execute_result"
    }
   ],
   "source": [
    "card_df.columns"
   ]
  },
  {
   "cell_type": "code",
   "execution_count": 14,
   "metadata": {},
   "outputs": [],
   "source": [
    "from pyspark.sql.functions import *\n",
    "from pyspark.sql.functions import row_number, monotonically_increasing_id\n",
    "from pyspark.sql import Window\n",
    "from pyspark.sql import functions as sf"
   ]
  },
  {
   "cell_type": "code",
   "execution_count": 15,
   "metadata": {},
   "outputs": [
    {
     "name": "stdout",
     "output_type": "stream",
     "text": [
      "+---------------+---------------+--------------------+----------------+-------------+-----------------+\n",
      "|        card_id|      member_id|   member_joining_dt|card_purchase_dt|      country|             city|\n",
      "+---------------+---------------+--------------------+----------------+-------------+-----------------+\n",
      "|340028465709212|009250698176266|2012-02-08 06:04:...|           05/13|United States|        Barberton|\n",
      "|340054675199675|835873341185231|2017-03-10 09:24:...|           03/17|United States|       Fort Dodge|\n",
      "|340082915339645|512969555857346|2014-02-15 06:30:...|           07/14|United States|           Graham|\n",
      "|340134186926007|887711945571282|2012-02-05 01:21:...|           02/13|United States|        Dix Hills|\n",
      "|340265728490548|680324265406190|2014-03-29 07:49:...|           11/14|United States| Rancho Cucamonga|\n",
      "|340268219434811|929799084911715|2012-07-08 02:46:...|           08/12|United States|    San Francisco|\n",
      "|340379737226464|089615510858348|2010-03-10 00:06:...|           09/10|United States|          Clinton|\n",
      "|340383645652108|181180599313885|2012-02-24 05:32:...|           10/16|United States|    West New York|\n",
      "|340803866934451|417664728506297|2015-05-21 04:30:...|           08/17|United States|        Beaverton|\n",
      "|340889618969736|459292914761635|2013-04-23 08:40:...|           11/15|United States|  West Palm Beach|\n",
      "|340924125838453|188119365574843|2011-04-12 04:28:...|           12/13|United States|      Scottsbluff|\n",
      "|341005627432127|872138964937565|2013-09-08 03:16:...|           02/17|United States|          Chillum|\n",
      "|341029651579925|974087224071871|2011-01-14 00:20:...|           08/12|United States|   Valley Station|\n",
      "|341311317050937|561687420200207|2014-03-18 06:23:...|           02/15|United States|        Vincennes|\n",
      "|341344252914274|695906467918552|2012-03-02 03:21:...|           03/13|United States|        Columbine|\n",
      "|341363858179050|009190444424572|2012-02-19 05:16:...|           04/14|United States|      Cheektowaga|\n",
      "|341519629171378|533670008048847|2013-05-13 07:59:...|           01/15|United States|       Centennial|\n",
      "|341641153427489|230523184584316|2013-03-25 08:51:...|           11/15|United States|       Colchester|\n",
      "|341719092861087|304847505155781|2015-12-06 08:06:...|           11/17|United States|     Vernon Hills|\n",
      "|341722035429601|979218131207765|2015-12-22 10:46:...|           01/17|United States|Elk Grove Village|\n",
      "+---------------+---------------+--------------------+----------------+-------------+-----------------+\n",
      "only showing top 20 rows\n",
      "\n"
     ]
    }
   ],
   "source": [
    "card_df.show()"
   ]
  },
  {
   "cell_type": "code",
   "execution_count": 16,
   "metadata": {},
   "outputs": [],
   "source": [
    "##Reading Member score file"
   ]
  },
  {
   "cell_type": "code",
   "execution_count": 17,
   "metadata": {},
   "outputs": [],
   "source": [
    "memberschema = StructType([StructField('member_id', StringType(),False),\n",
    "                        StructField('score', IntegerType(),False),\n",
    "                        ])"
   ]
  },
  {
   "cell_type": "code",
   "execution_count": 18,
   "metadata": {},
   "outputs": [],
   "source": [
    "member_df = spark.read.csv(\"hdfs:/user/root/CCFD_Project/member_score\", header = False, schema = memberschema)"
   ]
  },
  {
   "cell_type": "code",
   "execution_count": 19,
   "metadata": {},
   "outputs": [
    {
     "data": {
      "text/plain": [
       "999"
      ]
     },
     "execution_count": 19,
     "metadata": {},
     "output_type": "execute_result"
    }
   ],
   "source": [
    "member_df.count()"
   ]
  },
  {
   "cell_type": "markdown",
   "metadata": {},
   "source": [
    "- **Validation** :\n",
    "  As expected there are **999** records in card_member table retrieved from AWS RDS using Sqoop"
   ]
  },
  {
   "cell_type": "code",
   "execution_count": 20,
   "metadata": {},
   "outputs": [
    {
     "name": "stdout",
     "output_type": "stream",
     "text": [
      "+---------------+-----+\n",
      "|      member_id|score|\n",
      "+---------------+-----+\n",
      "|000037495066290|  339|\n",
      "|000117826301530|  289|\n",
      "|001147922084344|  393|\n",
      "|001314074991813|  225|\n",
      "|001739553947511|  642|\n",
      "|003761426295463|  413|\n",
      "|004494068832701|  217|\n",
      "|006836124210484|  504|\n",
      "|006991872634058|  697|\n",
      "|007955566230397|  372|\n",
      "|008732267588672|  213|\n",
      "|008765307152821|  399|\n",
      "|009136568025042|  308|\n",
      "|009190444424572|  559|\n",
      "|009250698176266|  233|\n",
      "|009873334520465|  298|\n",
      "|011716573646690|  249|\n",
      "|011877954983420|  497|\n",
      "|012390918683920|  407|\n",
      "|012731668664932|  612|\n",
      "+---------------+-----+\n",
      "only showing top 20 rows\n",
      "\n"
     ]
    }
   ],
   "source": [
    "member_df.show()"
   ]
  },
  {
   "cell_type": "markdown",
   "metadata": {},
   "source": [
    "- Renaming member_id as mem_id as it conflicts to select specific column after joining. And as we need member id from member_score file"
   ]
  },
  {
   "cell_type": "code",
   "execution_count": 21,
   "metadata": {},
   "outputs": [],
   "source": [
    "member_df = member_df.withColumnRenamed('member_id','mem_id')"
   ]
  },
  {
   "cell_type": "code",
   "execution_count": 22,
   "metadata": {},
   "outputs": [
    {
     "name": "stdout",
     "output_type": "stream",
     "text": [
      "root\n",
      " |-- mem_id: string (nullable = true)\n",
      " |-- score: integer (nullable = true)\n",
      "\n"
     ]
    }
   ],
   "source": [
    "member_df.printSchema()"
   ]
  },
  {
   "cell_type": "code",
   "execution_count": 23,
   "metadata": {},
   "outputs": [
    {
     "data": {
      "text/plain": [
       "['mem_id', 'score']"
      ]
     },
     "execution_count": 23,
     "metadata": {},
     "output_type": "execute_result"
    }
   ],
   "source": [
    "member_df.columns"
   ]
  },
  {
   "cell_type": "code",
   "execution_count": 24,
   "metadata": {},
   "outputs": [],
   "source": [
    "transasction = StructType([StructField('card_id', StringType(),False),\n",
    "                        StructField('member_id', StringType(),False),\n",
    "                        StructField('amount', IntegerType(),False), \n",
    "                        StructField('postcode', StringType(),False),\n",
    "                        StructField('pos_id', StringType(),False),\n",
    "                        StructField('transaction_dt', StringType(),False), \n",
    "                        StructField('status', StringType(),False), \n",
    "                        ])"
   ]
  },
  {
   "cell_type": "code",
   "execution_count": 25,
   "metadata": {},
   "outputs": [],
   "source": [
    "transaction_df = spark.read.csv(\"hdfs:/user/root/CCFD_Project/card_transactions/card_transactions.csv\", header = True, schema = transasction)"
   ]
  },
  {
   "cell_type": "code",
   "execution_count": 26,
   "metadata": {},
   "outputs": [
    {
     "data": {
      "text/plain": [
       "53292"
      ]
     },
     "execution_count": 26,
     "metadata": {},
     "output_type": "execute_result"
    }
   ],
   "source": [
    "transaction_df.count()"
   ]
  },
  {
   "cell_type": "markdown",
   "metadata": {},
   "source": [
    "- **Validation** :\n",
    "  As expected there are **53292** records in card_transactions.csv table given for rule evaluation and updation"
   ]
  },
  {
   "cell_type": "code",
   "execution_count": 27,
   "metadata": {},
   "outputs": [],
   "source": [
    "transaction_df_g= transaction_df.filter(transaction_df.status!='FRAUD')"
   ]
  },
  {
   "cell_type": "code",
   "execution_count": 28,
   "metadata": {},
   "outputs": [
    {
     "data": {
      "text/plain": [
       "53210"
      ]
     },
     "execution_count": 28,
     "metadata": {},
     "output_type": "execute_result"
    }
   ],
   "source": [
    "transaction_df_g.count()"
   ]
  },
  {
   "cell_type": "code",
   "execution_count": 29,
   "metadata": {},
   "outputs": [
    {
     "name": "stdout",
     "output_type": "stream",
     "text": [
      "+---------------+---------------+-------+--------+---------------+-------------------+-------+\n",
      "|        card_id|      member_id| amount|postcode|         pos_id|     transaction_dt| status|\n",
      "+---------------+---------------+-------+--------+---------------+-------------------+-------+\n",
      "|348702330256514|000037495066290|9084849|   33946|614677375609919|11-02-2018 00:00:00|GENUINE|\n",
      "|348702330256514|000037495066290| 330148|   33946|614677375609919|11-02-2018 00:00:00|GENUINE|\n",
      "|348702330256514|000037495066290| 136052|   33946|614677375609919|11-02-2018 00:00:00|GENUINE|\n",
      "|348702330256514|000037495066290|4310362|   33946|614677375609919|11-02-2018 00:00:00|GENUINE|\n",
      "|348702330256514|000037495066290|9097094|   33946|614677375609919|11-02-2018 00:00:00|GENUINE|\n",
      "|348702330256514|000037495066290|2291118|   33946|614677375609919|11-02-2018 00:00:00|GENUINE|\n",
      "|348702330256514|000037495066290|4900011|   33946|614677375609919|11-02-2018 00:00:00|GENUINE|\n",
      "|348702330256514|000037495066290| 633447|   33946|614677375609919|11-02-2018 00:00:00|GENUINE|\n",
      "|348702330256514|000037495066290|6259303|   33946|614677375609919|11-02-2018 00:00:00|GENUINE|\n",
      "|348702330256514|000037495066290| 369067|   33946|614677375609919|11-02-2018 00:00:00|GENUINE|\n",
      "|348702330256514|000037495066290|1193207|   33946|614677375609919|11-02-2018 00:00:00|GENUINE|\n",
      "|348702330256514|000037495066290|9335696|   33946|614677375609919|11-02-2018 00:00:00|GENUINE|\n",
      "|348702330256514|000037495066290|2241736|   33946|614677375609919|11-02-2018 00:00:00|GENUINE|\n",
      "|348702330256514|000037495066290| 457701|   33946|614677375609919|11-02-2018 00:00:00|GENUINE|\n",
      "|348702330256514|000037495066290|7176668|   33946|614677375609919|11-02-2018 00:00:00|GENUINE|\n",
      "|348702330256514|000037495066290|5585098|   33946|614677375609919|11-02-2018 00:00:00|GENUINE|\n",
      "|348702330256514|000037495066290|7918756|   33946|614677375609919|11-02-2018 00:00:00|GENUINE|\n",
      "|348702330256514|000037495066290|1611089|   33946|614677375609919|11-02-2018 00:00:00|GENUINE|\n",
      "|348702330256514|000037495066290| 217221|   33946|614677375609919|11-02-2018 00:00:00|GENUINE|\n",
      "|348702330256514|000037495066290|2617991|   33946|614677375609919|11-02-2018 00:00:00|GENUINE|\n",
      "+---------------+---------------+-------+--------+---------------+-------------------+-------+\n",
      "only showing top 20 rows\n",
      "\n"
     ]
    }
   ],
   "source": [
    "transaction_df_g.show()"
   ]
  },
  {
   "cell_type": "code",
   "execution_count": 30,
   "metadata": {},
   "outputs": [],
   "source": [
    "score = member_df.join(card_df, member_df.mem_id == card_df.member_id,how='LEFT')  "
   ]
  },
  {
   "cell_type": "code",
   "execution_count": 31,
   "metadata": {},
   "outputs": [
    {
     "data": {
      "text/plain": [
       "999"
      ]
     },
     "execution_count": 31,
     "metadata": {},
     "output_type": "execute_result"
    }
   ],
   "source": [
    "score.count()"
   ]
  },
  {
   "cell_type": "code",
   "execution_count": 32,
   "metadata": {},
   "outputs": [
    {
     "name": "stdout",
     "output_type": "stream",
     "text": [
      "root\n",
      " |-- mem_id: string (nullable = true)\n",
      " |-- score: integer (nullable = true)\n",
      " |-- card_id: string (nullable = true)\n",
      " |-- member_id: string (nullable = true)\n",
      " |-- member_joining_dt: string (nullable = true)\n",
      " |-- card_purchase_dt: string (nullable = true)\n",
      " |-- country: string (nullable = true)\n",
      " |-- city: string (nullable = true)\n",
      "\n"
     ]
    }
   ],
   "source": [
    "score.printSchema()"
   ]
  },
  {
   "cell_type": "markdown",
   "metadata": {},
   "source": [
    "[go to top](#top)"
   ]
  },
  {
   "cell_type": "code",
   "execution_count": 33,
   "metadata": {},
   "outputs": [],
   "source": [
    "score = score.select('mem_id', 'score', 'card_id')"
   ]
  },
  {
   "cell_type": "code",
   "execution_count": 34,
   "metadata": {},
   "outputs": [
    {
     "name": "stdout",
     "output_type": "stream",
     "text": [
      "+---------------+-----+----------------+\n",
      "|         mem_id|score|         card_id|\n",
      "+---------------+-----+----------------+\n",
      "|000037495066290|  339| 348702330256514|\n",
      "|000117826301530|  289|5189563368503974|\n",
      "|001147922084344|  393|5407073344486464|\n",
      "|001314074991813|  225| 378303738095292|\n",
      "|001739553947511|  642| 348413196172048|\n",
      "|003761426295463|  413| 348536585266345|\n",
      "|004494068832701|  217|5515987071565183|\n",
      "|006836124210484|  504|5400251558458125|\n",
      "|006991872634058|  697|4573337022888445|\n",
      "|007955566230397|  372|4708912758619517|\n",
      "|008732267588672|  213|5342400571435088|\n",
      "|008765307152821|  399|4237648081700588|\n",
      "|009136568025042|  308| 371814781663843|\n",
      "|009190444424572|  559| 341363858179050|\n",
      "|009250698176266|  233| 340028465709212|\n",
      "|009873334520465|  298|5495445301620991|\n",
      "|011716573646690|  249|4795844193055110|\n",
      "|011877954983420|  497|5164771396791995|\n",
      "|012390918683920|  407|5423921058459194|\n",
      "|012731668664932|  612|5379610024035907|\n",
      "+---------------+-----+----------------+\n",
      "only showing top 20 rows\n",
      "\n"
     ]
    }
   ],
   "source": [
    "score.show()"
   ]
  },
  {
   "cell_type": "code",
   "execution_count": 35,
   "metadata": {},
   "outputs": [],
   "source": [
    "member_df = member_df.withColumnRenamed('mem_id','member_id')"
   ]
  },
  {
   "cell_type": "code",
   "execution_count": 36,
   "metadata": {},
   "outputs": [
    {
     "name": "stdout",
     "output_type": "stream",
     "text": [
      "+---------------+-----+\n",
      "|      member_id|score|\n",
      "+---------------+-----+\n",
      "|000037495066290|  339|\n",
      "|000117826301530|  289|\n",
      "|001147922084344|  393|\n",
      "|001314074991813|  225|\n",
      "|001739553947511|  642|\n",
      "|003761426295463|  413|\n",
      "|004494068832701|  217|\n",
      "|006836124210484|  504|\n",
      "|006991872634058|  697|\n",
      "|007955566230397|  372|\n",
      "|008732267588672|  213|\n",
      "|008765307152821|  399|\n",
      "|009136568025042|  308|\n",
      "|009190444424572|  559|\n",
      "|009250698176266|  233|\n",
      "|009873334520465|  298|\n",
      "|011716573646690|  249|\n",
      "|011877954983420|  497|\n",
      "|012390918683920|  407|\n",
      "|012731668664932|  612|\n",
      "+---------------+-----+\n",
      "only showing top 20 rows\n",
      "\n"
     ]
    }
   ],
   "source": [
    "member_df.show()"
   ]
  },
  {
   "cell_type": "code",
   "execution_count": 37,
   "metadata": {},
   "outputs": [
    {
     "data": {
      "text/plain": [
       "999"
      ]
     },
     "execution_count": 37,
     "metadata": {},
     "output_type": "execute_result"
    }
   ],
   "source": [
    "member_df.count()"
   ]
  },
  {
   "cell_type": "code",
   "execution_count": 38,
   "metadata": {},
   "outputs": [],
   "source": [
    "score = score.withColumnRenamed('card_id','cardid')"
   ]
  },
  {
   "cell_type": "code",
   "execution_count": 39,
   "metadata": {
    "scrolled": true
   },
   "outputs": [
    {
     "name": "stdout",
     "output_type": "stream",
     "text": [
      "+---------------+-----+----------------+\n",
      "|         mem_id|score|          cardid|\n",
      "+---------------+-----+----------------+\n",
      "|000037495066290|  339| 348702330256514|\n",
      "|000117826301530|  289|5189563368503974|\n",
      "|001147922084344|  393|5407073344486464|\n",
      "|001314074991813|  225| 378303738095292|\n",
      "|001739553947511|  642| 348413196172048|\n",
      "|003761426295463|  413| 348536585266345|\n",
      "|004494068832701|  217|5515987071565183|\n",
      "|006836124210484|  504|5400251558458125|\n",
      "|006991872634058|  697|4573337022888445|\n",
      "|007955566230397|  372|4708912758619517|\n",
      "|008732267588672|  213|5342400571435088|\n",
      "|008765307152821|  399|4237648081700588|\n",
      "|009136568025042|  308| 371814781663843|\n",
      "|009190444424572|  559| 341363858179050|\n",
      "|009250698176266|  233| 340028465709212|\n",
      "|009873334520465|  298|5495445301620991|\n",
      "|011716573646690|  249|4795844193055110|\n",
      "|011877954983420|  497|5164771396791995|\n",
      "|012390918683920|  407|5423921058459194|\n",
      "|012731668664932|  612|5379610024035907|\n",
      "+---------------+-----+----------------+\n",
      "only showing top 20 rows\n",
      "\n"
     ]
    }
   ],
   "source": [
    "score.show()"
   ]
  },
  {
   "cell_type": "code",
   "execution_count": 40,
   "metadata": {},
   "outputs": [],
   "source": [
    "history = transaction_df_g.join(score, transaction_df_g.member_id == score.mem_id,how='outer')  "
   ]
  },
  {
   "cell_type": "code",
   "execution_count": 41,
   "metadata": {},
   "outputs": [
    {
     "data": {
      "text/plain": [
       "53210"
      ]
     },
     "execution_count": 41,
     "metadata": {},
     "output_type": "execute_result"
    }
   ],
   "source": [
    "history.count()"
   ]
  },
  {
   "cell_type": "code",
   "execution_count": 42,
   "metadata": {
    "scrolled": true
   },
   "outputs": [
    {
     "name": "stdout",
     "output_type": "stream",
     "text": [
      "root\n",
      " |-- card_id: string (nullable = true)\n",
      " |-- member_id: string (nullable = true)\n",
      " |-- amount: integer (nullable = true)\n",
      " |-- postcode: string (nullable = true)\n",
      " |-- pos_id: string (nullable = true)\n",
      " |-- transaction_dt: string (nullable = true)\n",
      " |-- status: string (nullable = true)\n",
      " |-- mem_id: string (nullable = true)\n",
      " |-- score: integer (nullable = true)\n",
      " |-- cardid: string (nullable = true)\n",
      "\n"
     ]
    }
   ],
   "source": [
    "history.printSchema()"
   ]
  },
  {
   "cell_type": "code",
   "execution_count": 43,
   "metadata": {},
   "outputs": [],
   "source": [
    "history = history.select('card_id', 'amount', 'postcode', 'pos_id','transaction_dt','status','score')"
   ]
  },
  {
   "cell_type": "code",
   "execution_count": 44,
   "metadata": {
    "scrolled": true
   },
   "outputs": [
    {
     "name": "stdout",
     "output_type": "stream",
     "text": [
      "+---------------+-------+--------+---------------+-------------------+-------+-----+\n",
      "|        card_id| amount|postcode|         pos_id|     transaction_dt| status|score|\n",
      "+---------------+-------+--------+---------------+-------------------+-------+-----+\n",
      "|340379737226464|6126197|   46933|167473544283898|01-05-2016 08:10:50|GENUINE|  229|\n",
      "|340379737226464|7949232|   61840|664980919335952|01-10-2016 10:38:52|GENUINE|  229|\n",
      "|340379737226464| 943839|   91743|633038040069180|02-08-2016 00:31:25|GENUINE|  229|\n",
      "|340379737226464|3764114|   91743|633038040069180|02-08-2016 21:35:27|GENUINE|  229|\n",
      "|340379737226464|6221251|   98384|064948657945290|02-10-2016 14:44:14|GENUINE|  229|\n",
      "|340379737226464|2868312|   26032|856772774421259|02-12-2016 21:55:43|GENUINE|  229|\n",
      "|340379737226464|4418586|   20129|390339673634463|02-12-2017 17:05:51|GENUINE|  229|\n",
      "|340379737226464|7439113|   91763|315067016872305|03-04-2017 11:43:59|GENUINE|  229|\n",
      "|340379737226464|8217180|   16063|208378790148728|03-05-2017 16:47:43|GENUINE|  229|\n",
      "|340379737226464|8505852|   64070|695556848392133|03-06-2017 03:07:27|GENUINE|  229|\n",
      "|340379737226464|8535431|   29817|683602833507395|04-08-2016 20:59:31|GENUINE|  229|\n",
      "|340379737226464|6317993|   28425|258522244165233|05-05-2017 00:23:45|GENUINE|  229|\n",
      "|340379737226464|3256860|   16845|933410474855991|05-10-2017 15:09:09|GENUINE|  229|\n",
      "|340379737226464|1423779|   97640|789378980336517|06-02-2017 02:10:00|GENUINE|  229|\n",
      "|340379737226464|3783517|   70552|963177679534627|06-12-2016 03:10:30|GENUINE|  229|\n",
      "|340379737226464|3300714|   75750|072728631441941|07-01-2017 05:52:58|GENUINE|  229|\n",
      "|340379737226464|5706163|   50455|915439934619047|07-01-2018 22:07:07|GENUINE|  229|\n",
      "|340379737226464|7445128|   50455|915439934619047|07-01-2018 23:52:27|GENUINE|  229|\n",
      "|340379737226464| 140120|   18915|691571327905821|07-02-2017 20:18:04|GENUINE|  229|\n",
      "|340379737226464|7720484|   48423|548702836055067|07-03-2016 14:59:35|GENUINE|  229|\n",
      "+---------------+-------+--------+---------------+-------------------+-------+-----+\n",
      "only showing top 20 rows\n",
      "\n"
     ]
    }
   ],
   "source": [
    "history.show()"
   ]
  },
  {
   "cell_type": "code",
   "execution_count": 45,
   "metadata": {},
   "outputs": [],
   "source": [
    "timeform = 'dd-MM-yyyy HH:mm:ss'\n",
    "historyy = history.withColumn('transaction_date',f.unix_timestamp(history['transaction_dt'],timeform).cast('timestamp'))"
   ]
  },
  {
   "cell_type": "code",
   "execution_count": 46,
   "metadata": {},
   "outputs": [
    {
     "name": "stdout",
     "output_type": "stream",
     "text": [
      "+---------------+-------+--------+---------------+-------------------+-------+-----+-------------------+\n",
      "|        card_id| amount|postcode|         pos_id|     transaction_dt| status|score|   transaction_date|\n",
      "+---------------+-------+--------+---------------+-------------------+-------+-----+-------------------+\n",
      "|340379737226464|6126197|   46933|167473544283898|01-05-2016 08:10:50|GENUINE|  229|2016-05-01 08:10:50|\n",
      "|340379737226464|7949232|   61840|664980919335952|01-10-2016 10:38:52|GENUINE|  229|2016-10-01 10:38:52|\n",
      "|340379737226464| 943839|   91743|633038040069180|02-08-2016 00:31:25|GENUINE|  229|2016-08-02 00:31:25|\n",
      "|340379737226464|3764114|   91743|633038040069180|02-08-2016 21:35:27|GENUINE|  229|2016-08-02 21:35:27|\n",
      "|340379737226464|6221251|   98384|064948657945290|02-10-2016 14:44:14|GENUINE|  229|2016-10-02 14:44:14|\n",
      "|340379737226464|2868312|   26032|856772774421259|02-12-2016 21:55:43|GENUINE|  229|2016-12-02 21:55:43|\n",
      "|340379737226464|4418586|   20129|390339673634463|02-12-2017 17:05:51|GENUINE|  229|2017-12-02 17:05:51|\n",
      "|340379737226464|7439113|   91763|315067016872305|03-04-2017 11:43:59|GENUINE|  229|2017-04-03 11:43:59|\n",
      "|340379737226464|8217180|   16063|208378790148728|03-05-2017 16:47:43|GENUINE|  229|2017-05-03 16:47:43|\n",
      "|340379737226464|8505852|   64070|695556848392133|03-06-2017 03:07:27|GENUINE|  229|2017-06-03 03:07:27|\n",
      "|340379737226464|8535431|   29817|683602833507395|04-08-2016 20:59:31|GENUINE|  229|2016-08-04 20:59:31|\n",
      "|340379737226464|6317993|   28425|258522244165233|05-05-2017 00:23:45|GENUINE|  229|2017-05-05 00:23:45|\n",
      "|340379737226464|3256860|   16845|933410474855991|05-10-2017 15:09:09|GENUINE|  229|2017-10-05 15:09:09|\n",
      "|340379737226464|1423779|   97640|789378980336517|06-02-2017 02:10:00|GENUINE|  229|2017-02-06 02:10:00|\n",
      "|340379737226464|3783517|   70552|963177679534627|06-12-2016 03:10:30|GENUINE|  229|2016-12-06 03:10:30|\n",
      "|340379737226464|3300714|   75750|072728631441941|07-01-2017 05:52:58|GENUINE|  229|2017-01-07 05:52:58|\n",
      "|340379737226464|5706163|   50455|915439934619047|07-01-2018 22:07:07|GENUINE|  229|2018-01-07 22:07:07|\n",
      "|340379737226464|7445128|   50455|915439934619047|07-01-2018 23:52:27|GENUINE|  229|2018-01-07 23:52:27|\n",
      "|340379737226464| 140120|   18915|691571327905821|07-02-2017 20:18:04|GENUINE|  229|2017-02-07 20:18:04|\n",
      "|340379737226464|7720484|   48423|548702836055067|07-03-2016 14:59:35|GENUINE|  229|2016-03-07 14:59:35|\n",
      "+---------------+-------+--------+---------------+-------------------+-------+-----+-------------------+\n",
      "only showing top 20 rows\n",
      "\n"
     ]
    }
   ],
   "source": [
    "historyy.show()"
   ]
  },
  {
   "cell_type": "markdown",
   "metadata": {},
   "source": [
    "- transaction_dt can be dropped as new transaction_date column with proper datatpye of timestamp is been added to the dataframe"
   ]
  },
  {
   "cell_type": "code",
   "execution_count": 47,
   "metadata": {},
   "outputs": [],
   "source": [
    "historyy = historyy.drop('transaction_dt')"
   ]
  },
  {
   "cell_type": "code",
   "execution_count": 48,
   "metadata": {},
   "outputs": [
    {
     "name": "stdout",
     "output_type": "stream",
     "text": [
      "+---------------+-------+--------+---------------+-------+-----+-------------------+\n",
      "|        card_id| amount|postcode|         pos_id| status|score|   transaction_date|\n",
      "+---------------+-------+--------+---------------+-------+-----+-------------------+\n",
      "|340379737226464|6126197|   46933|167473544283898|GENUINE|  229|2016-05-01 08:10:50|\n",
      "|340379737226464|7949232|   61840|664980919335952|GENUINE|  229|2016-10-01 10:38:52|\n",
      "|340379737226464| 943839|   91743|633038040069180|GENUINE|  229|2016-08-02 00:31:25|\n",
      "|340379737226464|3764114|   91743|633038040069180|GENUINE|  229|2016-08-02 21:35:27|\n",
      "|340379737226464|6221251|   98384|064948657945290|GENUINE|  229|2016-10-02 14:44:14|\n",
      "|340379737226464|2868312|   26032|856772774421259|GENUINE|  229|2016-12-02 21:55:43|\n",
      "|340379737226464|4418586|   20129|390339673634463|GENUINE|  229|2017-12-02 17:05:51|\n",
      "|340379737226464|7439113|   91763|315067016872305|GENUINE|  229|2017-04-03 11:43:59|\n",
      "|340379737226464|8217180|   16063|208378790148728|GENUINE|  229|2017-05-03 16:47:43|\n",
      "|340379737226464|8505852|   64070|695556848392133|GENUINE|  229|2017-06-03 03:07:27|\n",
      "|340379737226464|8535431|   29817|683602833507395|GENUINE|  229|2016-08-04 20:59:31|\n",
      "|340379737226464|6317993|   28425|258522244165233|GENUINE|  229|2017-05-05 00:23:45|\n",
      "|340379737226464|3256860|   16845|933410474855991|GENUINE|  229|2017-10-05 15:09:09|\n",
      "|340379737226464|1423779|   97640|789378980336517|GENUINE|  229|2017-02-06 02:10:00|\n",
      "|340379737226464|3783517|   70552|963177679534627|GENUINE|  229|2016-12-06 03:10:30|\n",
      "|340379737226464|3300714|   75750|072728631441941|GENUINE|  229|2017-01-07 05:52:58|\n",
      "|340379737226464|5706163|   50455|915439934619047|GENUINE|  229|2018-01-07 22:07:07|\n",
      "|340379737226464|7445128|   50455|915439934619047|GENUINE|  229|2018-01-07 23:52:27|\n",
      "|340379737226464| 140120|   18915|691571327905821|GENUINE|  229|2017-02-07 20:18:04|\n",
      "|340379737226464|7720484|   48423|548702836055067|GENUINE|  229|2016-03-07 14:59:35|\n",
      "+---------------+-------+--------+---------------+-------+-----+-------------------+\n",
      "only showing top 20 rows\n",
      "\n"
     ]
    }
   ],
   "source": [
    "historyy.show()"
   ]
  },
  {
   "cell_type": "markdown",
   "metadata": {},
   "source": [
    "[go to top](#top)"
   ]
  },
  {
   "cell_type": "markdown",
   "metadata": {},
   "source": [
    "## Collecting Transaction Date & Post Code of Last Transaction"
   ]
  },
  {
   "cell_type": "code",
   "execution_count": 49,
   "metadata": {},
   "outputs": [],
   "source": [
    "look_up_table = historyy.groupBy('card_id').agg(f.max(\"transaction_date\").alias('transaction_date'))"
   ]
  },
  {
   "cell_type": "code",
   "execution_count": 50,
   "metadata": {},
   "outputs": [
    {
     "name": "stdout",
     "output_type": "stream",
     "text": [
      "+----------------+-------------------+\n",
      "|         card_id|   transaction_date|\n",
      "+----------------+-------------------+\n",
      "| 345406224887566|2017-12-25 04:03:58|\n",
      "|6562510549485881|2018-01-17 08:35:27|\n",
      "| 377201318164757|2017-11-28 16:32:22|\n",
      "|4389973676463558|2018-01-26 13:47:46|\n",
      "|5508842242491554|2018-01-31 14:55:58|\n",
      "| 340379737226464|2018-01-27 00:19:47|\n",
      "| 348962542187595|2018-01-29 17:17:14|\n",
      "|5403923427969691|2018-01-22 23:46:19|\n",
      "|4407230633003235|2018-01-27 07:21:08|\n",
      "| 379321864695232|2018-01-03 00:29:37|\n",
      "| 340028465709212|2018-01-02 03:25:35|\n",
      "|4126356979547079|2018-01-24 16:09:03|\n",
      "|5543219113990484|2018-01-13 18:34:00|\n",
      "|4818950814628962|2018-01-31 00:53:15|\n",
      "|5573293264792992|2018-01-31 14:55:57|\n",
      "|6011985140563103|2018-01-30 02:03:54|\n",
      "| 349143706735646|2018-01-29 22:33:14|\n",
      "|5464688416792307|2018-01-26 19:03:47|\n",
      "|6011273561157733|2018-02-01 01:27:58|\n",
      "|4484950467600170|2018-01-10 08:03:13|\n",
      "+----------------+-------------------+\n",
      "only showing top 20 rows\n",
      "\n"
     ]
    }
   ],
   "source": [
    "look_up_table.show()"
   ]
  },
  {
   "cell_type": "code",
   "execution_count": 51,
   "metadata": {},
   "outputs": [
    {
     "data": {
      "text/plain": [
       "999"
      ]
     },
     "execution_count": 51,
     "metadata": {},
     "output_type": "execute_result"
    }
   ],
   "source": [
    "look_up_table.count()"
   ]
  },
  {
   "cell_type": "code",
   "execution_count": 52,
   "metadata": {},
   "outputs": [],
   "source": [
    "look_up_table = look_up_table.join(score, look_up_table.card_id == score.cardid,how='INNER')"
   ]
  },
  {
   "cell_type": "code",
   "execution_count": 53,
   "metadata": {},
   "outputs": [
    {
     "data": {
      "text/plain": [
       "999"
      ]
     },
     "execution_count": 53,
     "metadata": {},
     "output_type": "execute_result"
    }
   ],
   "source": [
    "look_up_table.count()"
   ]
  },
  {
   "cell_type": "code",
   "execution_count": 54,
   "metadata": {},
   "outputs": [
    {
     "name": "stdout",
     "output_type": "stream",
     "text": [
      "+----------------+-------------------+---------------+-----+----------------+\n",
      "|         card_id|   transaction_date|         mem_id|score|          cardid|\n",
      "+----------------+-------------------+---------------+-----+----------------+\n",
      "| 340379737226464|2018-01-27 00:19:47|089615510858348|  229| 340379737226464|\n",
      "| 345406224887566|2017-12-25 04:03:58|296206661780881|  349| 345406224887566|\n",
      "| 348962542187595|2018-01-29 17:17:14|366246487993992|  522| 348962542187595|\n",
      "| 377201318164757|2017-11-28 16:32:22|924475891017022|  432| 377201318164757|\n",
      "| 379321864695232|2018-01-03 00:29:37|082567374418739|  297| 379321864695232|\n",
      "|4389973676463558|2018-01-26 13:47:46|295554828848966|  400|4389973676463558|\n",
      "|4407230633003235|2018-01-27 07:21:08|761335698364860|  567|4407230633003235|\n",
      "|5403923427969691|2018-01-22 23:46:19|922077754605834|  324|5403923427969691|\n",
      "|5508842242491554|2018-01-31 14:55:58|634200295989311|  585|5508842242491554|\n",
      "|6562510549485881|2018-01-17 08:35:27|659982919406634|  518|6562510549485881|\n",
      "| 340028465709212|2018-01-02 03:25:35|009250698176266|  233| 340028465709212|\n",
      "| 349143706735646|2018-01-29 22:33:14|343824445342591|  298| 349143706735646|\n",
      "|4126356979547079|2018-01-24 16:09:03|015582765997171|  345|4126356979547079|\n",
      "|4484950467600170|2018-01-10 08:03:13|570539968421790|  462|4484950467600170|\n",
      "|4818950814628962|2018-01-31 00:53:15|819006616594636|  660|4818950814628962|\n",
      "|5464688416792307|2018-01-26 19:03:47|434792568351651|  469|5464688416792307|\n",
      "|5543219113990484|2018-01-13 18:34:00|501241235491851|  494|5543219113990484|\n",
      "|5573293264792992|2018-01-31 14:55:57|350307876868039|  284|5573293264792992|\n",
      "|6011273561157733|2018-02-01 01:27:58|314862932674883|  411|6011273561157733|\n",
      "|6011985140563103|2018-01-30 02:03:54|393165367933607|  350|6011985140563103|\n",
      "+----------------+-------------------+---------------+-----+----------------+\n",
      "only showing top 20 rows\n",
      "\n"
     ]
    }
   ],
   "source": [
    "look_up_table.show()"
   ]
  },
  {
   "cell_type": "code",
   "execution_count": 55,
   "metadata": {},
   "outputs": [],
   "source": [
    "look_up_table = look_up_table.select('card_id','transaction_date')"
   ]
  },
  {
   "cell_type": "code",
   "execution_count": 56,
   "metadata": {
    "scrolled": true
   },
   "outputs": [
    {
     "name": "stdout",
     "output_type": "stream",
     "text": [
      "+----------------+-------------------+\n",
      "|         card_id|   transaction_date|\n",
      "+----------------+-------------------+\n",
      "| 340379737226464|2018-01-27 00:19:47|\n",
      "| 345406224887566|2017-12-25 04:03:58|\n",
      "| 348962542187595|2018-01-29 17:17:14|\n",
      "| 377201318164757|2017-11-28 16:32:22|\n",
      "| 379321864695232|2018-01-03 00:29:37|\n",
      "|4389973676463558|2018-01-26 13:47:46|\n",
      "|4407230633003235|2018-01-27 07:21:08|\n",
      "|5403923427969691|2018-01-22 23:46:19|\n",
      "|5508842242491554|2018-01-31 14:55:58|\n",
      "|6562510549485881|2018-01-17 08:35:27|\n",
      "| 340028465709212|2018-01-02 03:25:35|\n",
      "| 349143706735646|2018-01-29 22:33:14|\n",
      "|4126356979547079|2018-01-24 16:09:03|\n",
      "|4484950467600170|2018-01-10 08:03:13|\n",
      "|4818950814628962|2018-01-31 00:53:15|\n",
      "|5464688416792307|2018-01-26 19:03:47|\n",
      "|5543219113990484|2018-01-13 18:34:00|\n",
      "|5573293264792992|2018-01-31 14:55:57|\n",
      "|6011273561157733|2018-02-01 01:27:58|\n",
      "|6011985140563103|2018-01-30 02:03:54|\n",
      "+----------------+-------------------+\n",
      "only showing top 20 rows\n",
      "\n"
     ]
    }
   ],
   "source": [
    "look_up_table.show(20)"
   ]
  },
  {
   "cell_type": "code",
   "execution_count": 57,
   "metadata": {},
   "outputs": [
    {
     "data": {
      "text/plain": [
       "1476"
      ]
     },
     "execution_count": 57,
     "metadata": {},
     "output_type": "execute_result"
    }
   ],
   "source": [
    "look_up_table = look_up_table.join(historyy,on=['card_id','transaction_date'],how='left')\n",
    "look_up_table.count()"
   ]
  },
  {
   "cell_type": "code",
   "execution_count": 58,
   "metadata": {
    "scrolled": true
   },
   "outputs": [
    {
     "name": "stdout",
     "output_type": "stream",
     "text": [
      "+----------------+-------------------+-------+--------+---------------+-------+-----+\n",
      "|         card_id|   transaction_date| amount|postcode|         pos_id| status|score|\n",
      "+----------------+-------------------+-------+--------+---------------+-------+-----+\n",
      "| 378586484293754|2017-12-24 05:14:37|3859271|   24363|753115024049849|GENUINE|  337|\n",
      "|4356201405998945|2018-01-24 14:23:42|4553231|   43791|339439168301190|GENUINE|  600|\n",
      "|4418227862530505|2018-01-25 16:43:45|4085014|   14544|028630406062180|GENUINE|  318|\n",
      "|5400249950855567|2018-01-28 06:10:31|1062269|   24966|757227694469394|GENUINE|  523|\n",
      "| 373748808330229|2018-01-29 13:46:32|2446006|   25260|459926365561014|GENUINE|  685|\n",
      "|4353614029446427|2018-01-10 23:51:13|2713094|   15311|791335648163958|GENUINE|  219|\n",
      "|4598225659063187|2018-01-25 21:59:45| 421272|   50531|657401894365206|GENUINE|  355|\n",
      "|4689314809377828|2018-01-25 21:59:45|1151530|   29550|365821079545471|GENUINE|  632|\n",
      "|5447036761675606|2017-11-16 23:38:38| 566003|   32970|900066068310939|GENUINE|  690|\n",
      "|5508842242491554|2018-01-31 14:55:58|2710473|   12986|990193545769550|GENUINE|  585|\n",
      "|5572427538311236|2018-01-31 20:11:58|2479113|   91040|341079781603709|GENUINE|  303|\n",
      "|6011654527329500|2018-01-31 00:53:16|9773537|   58634|018255965744212|GENUINE|  683|\n",
      "| 347893423075811|2018-01-24 02:06:21|2927191|   15532|320818315059172|GENUINE|  429|\n",
      "| 371085417506954|2018-01-28 14:57:11| 741464|   19468|551815269280261|GENUINE|  599|\n",
      "|5316831626197194|2018-01-29 13:46:32|6716709|   40488|704363694703346|GENUINE|  227|\n",
      "|6011027251671860|2018-01-28 11:26:31| 810486|   43437|617450656798765|GENUINE|  351|\n",
      "|6011759165664934|2018-01-13 06:16:39|9451754|   56734|598314604248219|GENUINE|  391|\n",
      "| 343478616471867|2018-01-29 10:15:53| 653774|   10520|639280245606744|GENUINE|  302|\n",
      "| 346001716915984|2017-11-26 10:06:57|3248384|   61740|525809580544230|GENUINE|  364|\n",
      "| 347697256845386|2018-01-24 02:06:21|5808752|   15376|887377265331304|GENUINE|  338|\n",
      "+----------------+-------------------+-------+--------+---------------+-------+-----+\n",
      "only showing top 20 rows\n",
      "\n"
     ]
    }
   ],
   "source": [
    "look_up_table.show()"
   ]
  },
  {
   "cell_type": "code",
   "execution_count": 59,
   "metadata": {},
   "outputs": [],
   "source": [
    "look_up_table = look_up_table.select('card_id','transaction_date','score','postcode')"
   ]
  },
  {
   "cell_type": "code",
   "execution_count": 60,
   "metadata": {},
   "outputs": [
    {
     "name": "stdout",
     "output_type": "stream",
     "text": [
      "+----------------+-------------------+-----+--------+\n",
      "|         card_id|   transaction_date|score|postcode|\n",
      "+----------------+-------------------+-----+--------+\n",
      "| 378586484293754|2017-12-24 05:14:37|  337|   24363|\n",
      "|4356201405998945|2018-01-24 14:23:42|  600|   43791|\n",
      "|4418227862530505|2018-01-25 16:43:45|  318|   14544|\n",
      "|5400249950855567|2018-01-28 06:10:31|  523|   24966|\n",
      "| 373748808330229|2018-01-29 13:46:32|  685|   25260|\n",
      "|4353614029446427|2018-01-10 23:51:13|  219|   15311|\n",
      "|4598225659063187|2018-01-25 21:59:45|  355|   50531|\n",
      "|4689314809377828|2018-01-25 21:59:45|  632|   29550|\n",
      "|5447036761675606|2017-11-16 23:38:38|  690|   32970|\n",
      "|5508842242491554|2018-01-31 14:55:58|  585|   12986|\n",
      "|5572427538311236|2018-01-31 20:11:58|  303|   91040|\n",
      "|6011654527329500|2018-01-31 00:53:16|  683|   58634|\n",
      "| 347893423075811|2018-01-24 02:06:21|  429|   15532|\n",
      "| 371085417506954|2018-01-28 14:57:11|  599|   19468|\n",
      "|5316831626197194|2018-01-29 13:46:32|  227|   40488|\n",
      "|6011027251671860|2018-01-28 11:26:31|  351|   43437|\n",
      "|6011759165664934|2018-01-13 06:16:39|  391|   56734|\n",
      "| 343478616471867|2018-01-29 10:15:53|  302|   10520|\n",
      "| 346001716915984|2017-11-26 10:06:57|  364|   61740|\n",
      "| 347697256845386|2018-01-24 02:06:21|  338|   15376|\n",
      "+----------------+-------------------+-----+--------+\n",
      "only showing top 20 rows\n",
      "\n"
     ]
    }
   ],
   "source": [
    "look_up_table.show()"
   ]
  },
  {
   "cell_type": "markdown",
   "metadata": {},
   "source": [
    "[go to top](#top)"
   ]
  },
  {
   "cell_type": "markdown",
   "metadata": {},
   "source": [
    "###  4. Calculating Upper Control Limit (UCL) <a id='ucl'></a>"
   ]
  },
  {
   "cell_type": "markdown",
   "metadata": {},
   "source": [
    "- using window functions and rank function filteration can be done and moving average can be calculated for the last 10 transactions for every cardholder"
   ]
  },
  {
   "cell_type": "code",
   "execution_count": 61,
   "metadata": {},
   "outputs": [],
   "source": [
    "window = Window.partitionBy(historyy['card_id']).orderBy(historyy['transaction_date'].desc())\n",
    "\n",
    "history_df = historyy.select('*', f.rank().over(window).alias('rank')).filter(f.col('rank') <= 10)"
   ]
  },
  {
   "cell_type": "code",
   "execution_count": 62,
   "metadata": {},
   "outputs": [
    {
     "name": "stdout",
     "output_type": "stream",
     "text": [
      "+---------------+-------+--------+---------------+-------+-----+-------------------+----+\n",
      "|        card_id| amount|postcode|         pos_id| status|score|   transaction_date|rank|\n",
      "+---------------+-------+--------+---------------+-------+-----+-------------------+----+\n",
      "|340379737226464|1784098|   26656|000383013889790|GENUINE|  229|2018-01-27 00:19:47|   1|\n",
      "|340379737226464|3759577|   61334|016312401940277|GENUINE|  229|2018-01-18 14:26:09|   2|\n",
      "|340379737226464|4080612|   51338|562082278231631|GENUINE|  229|2018-01-14 20:54:02|   3|\n",
      "|340379737226464|4242710|   96105|285501971776349|GENUINE|  229|2018-01-11 19:09:55|   4|\n",
      "|340379737226464|9061517|   40932|232455833079472|GENUINE|  229|2018-01-10 20:20:33|   5|\n",
      "|340379737226464| 102248|   40932|232455833079472|GENUINE|  229|2018-01-10 15:04:33|   6|\n",
      "|340379737226464|7445128|   50455|915439934619047|GENUINE|  229|2018-01-07 23:52:27|   7|\n",
      "|340379737226464|5706163|   50455|915439934619047|GENUINE|  229|2018-01-07 22:07:07|   8|\n",
      "|340379737226464|8090127|   18626|359283931604637|GENUINE|  229|2017-12-29 13:24:07|   9|\n",
      "|340379737226464|9282351|   41859|808326141065551|GENUINE|  229|2017-12-28 19:50:46|  10|\n",
      "|345406224887566|1135534|   53034|146838238062262|GENUINE|  349|2017-12-25 04:03:58|   1|\n",
      "|345406224887566|5190295|   88036|821406924682103|GENUINE|  349|2017-12-20 04:41:07|   2|\n",
      "|345406224887566|5970187|   28334|024341862357645|GENUINE|  349|2017-11-30 05:24:25|   3|\n",
      "|345406224887566|3854486|   48880|172521878612232|GENUINE|  349|2017-09-21 00:01:58|   4|\n",
      "|345406224887566|1242240|   14510|536497882467098|GENUINE|  349|2017-06-11 16:31:45|   5|\n",
      "|345406224887566|9222549|   68358|875905403447795|GENUINE|  349|2017-06-10 21:13:03|   6|\n",
      "|345406224887566|8726784|   64487|617331009748827|GENUINE|  349|2017-03-16 03:04:40|   7|\n",
      "|345406224887566|2415599|   99137|751829480922658|GENUINE|  349|2017-03-08 12:29:44|   8|\n",
      "|345406224887566|9671941|   65614|607206139883123|GENUINE|  349|2017-01-21 08:42:47|   9|\n",
      "|345406224887566|7454950|   18249|368724323320131|GENUINE|  349|2016-12-30 04:46:01|  10|\n",
      "+---------------+-------+--------+---------------+-------+-----+-------------------+----+\n",
      "only showing top 20 rows\n",
      "\n"
     ]
    }
   ],
   "source": [
    "history_df.show()"
   ]
  },
  {
   "cell_type": "code",
   "execution_count": 63,
   "metadata": {},
   "outputs": [
    {
     "name": "stdout",
     "output_type": "stream",
     "text": [
      "+----------------+----------+----------+\n",
      "|         card_id|moving_avg|   Std_Dev|\n",
      "+----------------+----------+----------+\n",
      "| 340379737226464| 5355453.1|3107063.55|\n",
      "| 345406224887566| 5488456.5|3252527.52|\n",
      "| 348962542187595| 5735629.0|3089916.54|\n",
      "| 377201318164757| 5742377.7|2768545.84|\n",
      "| 379321864695232| 4713319.1|3203114.94|\n",
      "|4389973676463558| 4923904.7| 2306771.9|\n",
      "|4407230633003235| 4348891.3|3274883.95|\n",
      "|5403923427969691| 5375495.6|2913510.72|\n",
      "|5508842242491554| 4570725.9|3229905.04|\n",
      "|6562510549485881| 5551056.9|2501552.48|\n",
      "| 340028465709212| 6863758.9|3326644.65|\n",
      "| 349143706735646| 5453372.9|3424332.26|\n",
      "|4126356979547079| 4286400.2|2909676.26|\n",
      "|4484950467600170| 4550480.5|3171538.48|\n",
      "|4818950814628962| 2210428.9| 958307.87|\n",
      "|5464688416792307| 4985938.2|2379084.95|\n",
      "|5543219113990484| 4033586.9|2969107.42|\n",
      "|5573293264792992| 3929994.0|2589503.93|\n",
      "|6011273561157733| 4634624.8|2801886.17|\n",
      "|6011985140563103| 5302878.9| 3088988.7|\n",
      "+----------------+----------+----------+\n",
      "only showing top 20 rows\n",
      "\n"
     ]
    }
   ],
   "source": [
    "history_df = history_df.groupBy(\"card_id\").agg(f.round(f.avg('amount'),2).alias('moving_avg'), \\\n",
    "                                                                      f.round(f.stddev('amount'),2).alias('Std_Dev'))\n",
    "history_df.show()"
   ]
  },
  {
   "cell_type": "code",
   "execution_count": 64,
   "metadata": {},
   "outputs": [
    {
     "name": "stdout",
     "output_type": "stream",
     "text": [
      "+----------------+----------+----------+--------------------+\n",
      "|         card_id|moving_avg|   Std_Dev|                 UCL|\n",
      "+----------------+----------+----------+--------------------+\n",
      "| 340379737226464| 5355453.1|3107063.55|1.4676643749999998E7|\n",
      "| 345406224887566| 5488456.5|3252527.52|       1.524603906E7|\n",
      "| 348962542187595| 5735629.0|3089916.54|1.5005378620000001E7|\n",
      "| 377201318164757| 5742377.7|2768545.84|1.4048015219999999E7|\n",
      "| 379321864695232| 4713319.1|3203114.94|       1.432266392E7|\n",
      "|4389973676463558| 4923904.7| 2306771.9|1.1844220399999999E7|\n",
      "|4407230633003235| 4348891.3|3274883.95|1.4173543150000002E7|\n",
      "|5403923427969691| 5375495.6|2913510.72|       1.411602776E7|\n",
      "|5508842242491554| 4570725.9|3229905.04|1.4260441020000001E7|\n",
      "|6562510549485881| 5551056.9|2501552.48|       1.305571434E7|\n",
      "| 340028465709212| 6863758.9|3326644.65|       1.684369285E7|\n",
      "| 349143706735646| 5453372.9|3424332.26|       1.572636968E7|\n",
      "|4126356979547079| 4286400.2|2909676.26|       1.301542898E7|\n",
      "|4484950467600170| 4550480.5|3171538.48|       1.406509594E7|\n",
      "|4818950814628962| 2210428.9| 958307.87|          5085352.51|\n",
      "|5464688416792307| 4985938.2|2379084.95|       1.212319305E7|\n",
      "|5543219113990484| 4033586.9|2969107.42|       1.294090916E7|\n",
      "|5573293264792992| 3929994.0|2589503.93|1.1698505790000001E7|\n",
      "|6011273561157733| 4634624.8|2801886.17|1.3040283309999999E7|\n",
      "|6011985140563103| 5302878.9| 3088988.7|1.4569845000000002E7|\n",
      "+----------------+----------+----------+--------------------+\n",
      "only showing top 20 rows\n",
      "\n"
     ]
    }
   ],
   "source": [
    "history_df = history_df.withColumn('UCL',history_df.moving_avg+3*(history_df.Std_Dev))\n",
    "history_df.show()"
   ]
  },
  {
   "cell_type": "code",
   "execution_count": 65,
   "metadata": {},
   "outputs": [],
   "source": [
    "history_df = history_df.select('card_id','UCL')"
   ]
  },
  {
   "cell_type": "code",
   "execution_count": 66,
   "metadata": {},
   "outputs": [],
   "source": [
    "look_up_table = look_up_table.join(history_df,on=['card_id'])"
   ]
  },
  {
   "cell_type": "code",
   "execution_count": 67,
   "metadata": {},
   "outputs": [
    {
     "name": "stdout",
     "output_type": "stream",
     "text": [
      "+----------------+-------------------+-----+--------+--------------------+\n",
      "|         card_id|   transaction_date|score|postcode|                 UCL|\n",
      "+----------------+-------------------+-----+--------+--------------------+\n",
      "| 340379737226464|2018-01-27 00:19:47|  229|   26656|1.4676643749999998E7|\n",
      "| 345406224887566|2017-12-25 04:03:58|  349|   53034|       1.524603906E7|\n",
      "| 348962542187595|2018-01-29 17:17:14|  522|   27830|1.5005378620000001E7|\n",
      "| 377201318164757|2017-11-28 16:32:22|  432|   84302|1.4048015219999999E7|\n",
      "| 379321864695232|2018-01-03 00:29:37|  297|   98837|       1.432266392E7|\n",
      "|4389973676463558|2018-01-26 13:47:46|  400|   10985|1.1844220399999999E7|\n",
      "|4407230633003235|2018-01-27 07:21:08|  567|   50167|1.4173543150000002E7|\n",
      "|5403923427969691|2018-01-22 23:46:19|  324|   17350|       1.411602776E7|\n",
      "|5508842242491554|2018-01-31 14:55:58|  585|   12986|1.4260441020000001E7|\n",
      "|6562510549485881|2018-01-17 08:35:27|  518|   35440|       1.305571434E7|\n",
      "| 340028465709212|2018-01-02 03:25:35|  233|   24658|       1.684369285E7|\n",
      "| 349143706735646|2018-01-29 22:33:14|  298|   99101|       1.572636968E7|\n",
      "|4126356979547079|2018-01-24 16:09:03|  345|   14475|       1.301542898E7|\n",
      "|4484950467600170|2018-01-10 08:03:13|  462|   13324|       1.406509594E7|\n",
      "|4818950814628962|2018-01-31 00:53:15|  660|   88081|          5085352.51|\n",
      "|5464688416792307|2018-01-26 19:03:47|  469|   71670|       1.212319305E7|\n",
      "|5543219113990484|2018-01-13 18:34:00|  494|   62273|       1.294090916E7|\n",
      "|5573293264792992|2018-01-31 14:55:57|  284|   27012|1.1698505790000001E7|\n",
      "|6011273561157733|2018-02-01 01:27:58|  411|   45305|1.3040283309999999E7|\n",
      "|6011985140563103|2018-01-30 02:03:54|  350|   36587|1.4569845000000002E7|\n",
      "+----------------+-------------------+-----+--------+--------------------+\n",
      "only showing top 20 rows\n",
      "\n"
     ]
    }
   ],
   "source": [
    "look_up_table.show()"
   ]
  },
  {
   "cell_type": "code",
   "execution_count": 68,
   "metadata": {},
   "outputs": [],
   "source": [
    "look_up_table = look_up_table.dropDuplicates((['card_id','transaction_date','postcode']))"
   ]
  },
  {
   "cell_type": "code",
   "execution_count": 69,
   "metadata": {},
   "outputs": [
    {
     "data": {
      "text/plain": [
       "1000"
      ]
     },
     "execution_count": 69,
     "metadata": {},
     "output_type": "execute_result"
    }
   ],
   "source": [
    "look_up_table.count()"
   ]
  },
  {
   "cell_type": "markdown",
   "metadata": {},
   "source": [
    "###  5. Creation of Lookup Table in HBase <a id='cdt'></a>"
   ]
  },
  {
   "cell_type": "code",
   "execution_count": 70,
   "metadata": {},
   "outputs": [],
   "source": [
    "import happybase\n",
    "#create connection\n",
    "connection = happybase.Connection('localhost', port=9090 ,autoconnect=False)"
   ]
  },
  {
   "cell_type": "code",
   "execution_count": 71,
   "metadata": {},
   "outputs": [],
   "source": [
    "def open_connection():\n",
    "    connection.open()\n",
    "#close the opened connection\n",
    "def close_connection():\n",
    "    connection.close()\n",
    "#list all tables in Hbase\n",
    "def list_tables():\n",
    " print \"fetching all table\"\n",
    " open_connection()\n",
    " tables = connection.tables()\n",
    " close_connection()\n",
    " print \"all tables fetched\"\n",
    " return tables"
   ]
  },
  {
   "cell_type": "code",
   "execution_count": 72,
   "metadata": {},
   "outputs": [],
   "source": [
    "#create the required table \n",
    "def create_table(name,cf):\n",
    " print \"creating table \" + name\n",
    " tables = list_tables()\n",
    " if name not in tables:\n",
    "  open_connection()\n",
    "  connection.create_table(name, cf)\n",
    "  close_connection()\n",
    "  print \"table created\"\n",
    " else:\n",
    "  print \"table already present\"\n",
    "#get the pointer to a table\n",
    "def get_table(name):\n",
    " open_connection()\n",
    " table = connection.table(name)\n",
    " close_connection()\n",
    " return table"
   ]
  },
  {
   "cell_type": "code",
   "execution_count": 104,
   "metadata": {},
   "outputs": [
    {
     "name": "stdout",
     "output_type": "stream",
     "text": [
      "creating table look_up_table\n",
      "fetching all table\n",
      "all tables fetched\n",
      "table created\n"
     ]
    }
   ],
   "source": [
    " create_table('look_up_table', {'info' : dict(max_versions=5) })"
   ]
  },
  {
   "cell_type": "code",
   "execution_count": 105,
   "metadata": {},
   "outputs": [],
   "source": [
    "#batch insert data in lookup table\n",
    "def batch_insert_data(df,tableName):\n",
    " print \"starting batch insert of events\"\n",
    " table = get_table(tableName)\n",
    " open_connection()\n",
    " rows_count=0\n",
    "\n",
    "#Creating a rowkey for better data query. RowKey is the cardId .\n",
    " rowKey_dict={}\n",
    " with table.batch(batch_size=4) as b:\n",
    "   for row in df.rdd.collect():\n",
    "    b.put(bytes(row.card_id) , { 'info:card_id':bytes(row.card_id),\n",
    "                        'info:transaction_date':bytes(row.transaction_date),\n",
    "                        'info:score':bytes(row.score),\n",
    "                        'info:postcode':bytes(row.postcode),\n",
    "                        'info:UCL':bytes(row.UCL)})\n",
    "\n",
    " \n",
    "\n",
    " print \"batch insert done\"\n",
    " close_connection()"
   ]
  },
  {
   "cell_type": "code",
   "execution_count": 107,
   "metadata": {},
   "outputs": [
    {
     "name": "stdout",
     "output_type": "stream",
     "text": [
      "starting batch insert of events\n",
      "batch insert done\n"
     ]
    }
   ],
   "source": [
    "batch_insert_data(look_up_table,'look_up_table')"
   ]
  },
  {
   "cell_type": "code",
   "execution_count": 74,
   "metadata": {},
   "outputs": [
    {
     "name": "stdout",
     "output_type": "stream",
     "text": [
      "creating table card_transaction\n",
      "fetching all table\n",
      "all tables fetched\n",
      "table created\n"
     ]
    }
   ],
   "source": [
    " create_table('card_transaction', {'info' : dict(max_versions=5) })"
   ]
  },
  {
   "cell_type": "markdown",
   "metadata": {},
   "source": [
    "[go to top](#top)"
   ]
  }
 ],
 "metadata": {
  "kernelspec": {
   "display_name": "Python 3",
   "language": "python",
   "name": "python3"
  },
  "language_info": {
   "codemirror_mode": {
    "name": "ipython",
    "version": 3
   },
   "file_extension": ".py",
   "mimetype": "text/x-python",
   "name": "python",
   "nbconvert_exporter": "python",
   "pygments_lexer": "ipython3",
   "version": "3.8.5"
  }
 },
 "nbformat": 4,
 "nbformat_minor": 2
}
